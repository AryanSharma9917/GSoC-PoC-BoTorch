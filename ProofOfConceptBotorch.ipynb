{
  "nbformat": 4,
  "nbformat_minor": 0,
  "metadata": {
    "colab": {
      "provenance": []
    },
    "kernelspec": {
      "name": "python3",
      "display_name": "Python 3"
    },
    "language_info": {
      "name": "python"
    }
  },
  "cells": [
    {
      "cell_type": "markdown",
      "source": [
        "## Loading and understanding BoTorch"
      ],
      "metadata": {
        "id": "E1MKK0bMZtpe"
      }
    },
    {
      "cell_type": "code",
      "source": [
        "import os\n",
        "import torch\n",
        "\n",
        "device = torch.device(\"cuda\" if torch.cuda.is_available() else \"cpu\")\n",
        "dtype = torch.double\n",
        "SMOKE_TEST = os.environ.get(\"SMOKE_TEST\")"
      ],
      "metadata": {
        "id": "psVnZvZ1Z7_v"
      },
      "execution_count": 6,
      "outputs": []
    },
    {
      "cell_type": "code",
      "source": [
        "!pip install botorch"
      ],
      "metadata": {
        "colab": {
          "base_uri": "https://localhost:8080/"
        },
        "id": "wq2HcI0daDm7",
        "outputId": "ce5b570b-b6d3-47b9-ea0e-58e1bdffef2c"
      },
      "execution_count": 7,
      "outputs": [
        {
          "output_type": "stream",
          "name": "stdout",
          "text": [
            "Looking in indexes: https://pypi.org/simple, https://us-python.pkg.dev/colab-wheels/public/simple/\n",
            "Collecting botorch\n",
            "  Downloading botorch-0.8.3-py3-none-any.whl (521 kB)\n",
            "\u001b[2K     \u001b[90m━━━━━━━━━━━━━━━━━━━━━━━━━━━━━━━━━━━━━━━\u001b[0m \u001b[32m521.8/521.8 KB\u001b[0m \u001b[31m9.8 MB/s\u001b[0m eta \u001b[36m0:00:00\u001b[0m\n",
            "\u001b[?25hRequirement already satisfied: torch>=1.12 in /usr/local/lib/python3.9/dist-packages (from botorch) (2.0.0+cu118)\n",
            "Requirement already satisfied: multipledispatch in /usr/local/lib/python3.9/dist-packages (from botorch) (0.6.0)\n",
            "Collecting gpytorch==1.9.1\n",
            "  Downloading gpytorch-1.9.1-py3-none-any.whl (250 kB)\n",
            "\u001b[2K     \u001b[90m━━━━━━━━━━━━━━━━━━━━━━━━━━━━━━━━━━━━━━\u001b[0m \u001b[32m250.9/250.9 KB\u001b[0m \u001b[31m25.8 MB/s\u001b[0m eta \u001b[36m0:00:00\u001b[0m\n",
            "\u001b[?25hRequirement already satisfied: scipy in /usr/local/lib/python3.9/dist-packages (from botorch) (1.10.1)\n",
            "Collecting linear-operator==0.3.0\n",
            "  Downloading linear_operator-0.3.0-py3-none-any.whl (155 kB)\n",
            "\u001b[2K     \u001b[90m━━━━━━━━━━━━━━━━━━━━━━━━━━━━━━━━━━━━━━\u001b[0m \u001b[32m155.6/155.6 KB\u001b[0m \u001b[31m14.0 MB/s\u001b[0m eta \u001b[36m0:00:00\u001b[0m\n",
            "\u001b[?25hCollecting pyro-ppl>=1.8.4\n",
            "  Downloading pyro_ppl-1.8.4-py3-none-any.whl (730 kB)\n",
            "\u001b[2K     \u001b[90m━━━━━━━━━━━━━━━━━━━━━━━━━━━━━━━━━━━━━━\u001b[0m \u001b[32m730.7/730.7 KB\u001b[0m \u001b[31m27.5 MB/s\u001b[0m eta \u001b[36m0:00:00\u001b[0m\n",
            "\u001b[?25hRequirement already satisfied: scikit-learn in /usr/local/lib/python3.9/dist-packages (from gpytorch==1.9.1->botorch) (1.2.2)\n",
            "Collecting pyro-api>=0.1.1\n",
            "  Downloading pyro_api-0.1.2-py3-none-any.whl (11 kB)\n",
            "Requirement already satisfied: opt-einsum>=2.3.2 in /usr/local/lib/python3.9/dist-packages (from pyro-ppl>=1.8.4->botorch) (3.3.0)\n",
            "Requirement already satisfied: tqdm>=4.36 in /usr/local/lib/python3.9/dist-packages (from pyro-ppl>=1.8.4->botorch) (4.65.0)\n",
            "Requirement already satisfied: numpy>=1.7 in /usr/local/lib/python3.9/dist-packages (from pyro-ppl>=1.8.4->botorch) (1.22.4)\n",
            "Requirement already satisfied: filelock in /usr/local/lib/python3.9/dist-packages (from torch>=1.12->botorch) (3.10.7)\n",
            "Requirement already satisfied: jinja2 in /usr/local/lib/python3.9/dist-packages (from torch>=1.12->botorch) (3.1.2)\n",
            "Requirement already satisfied: typing-extensions in /usr/local/lib/python3.9/dist-packages (from torch>=1.12->botorch) (4.5.0)\n",
            "Requirement already satisfied: networkx in /usr/local/lib/python3.9/dist-packages (from torch>=1.12->botorch) (3.0)\n",
            "Requirement already satisfied: sympy in /usr/local/lib/python3.9/dist-packages (from torch>=1.12->botorch) (1.11.1)\n",
            "Requirement already satisfied: triton==2.0.0 in /usr/local/lib/python3.9/dist-packages (from torch>=1.12->botorch) (2.0.0)\n",
            "Requirement already satisfied: lit in /usr/local/lib/python3.9/dist-packages (from triton==2.0.0->torch>=1.12->botorch) (16.0.0)\n",
            "Requirement already satisfied: cmake in /usr/local/lib/python3.9/dist-packages (from triton==2.0.0->torch>=1.12->botorch) (3.25.2)\n",
            "Requirement already satisfied: six in /usr/local/lib/python3.9/dist-packages (from multipledispatch->botorch) (1.16.0)\n",
            "Requirement already satisfied: MarkupSafe>=2.0 in /usr/local/lib/python3.9/dist-packages (from jinja2->torch>=1.12->botorch) (2.1.2)\n",
            "Requirement already satisfied: threadpoolctl>=2.0.0 in /usr/local/lib/python3.9/dist-packages (from scikit-learn->gpytorch==1.9.1->botorch) (3.1.0)\n",
            "Requirement already satisfied: joblib>=1.1.1 in /usr/local/lib/python3.9/dist-packages (from scikit-learn->gpytorch==1.9.1->botorch) (1.1.1)\n",
            "Requirement already satisfied: mpmath>=0.19 in /usr/local/lib/python3.9/dist-packages (from sympy->torch>=1.12->botorch) (1.3.0)\n",
            "Installing collected packages: pyro-api, linear-operator, pyro-ppl, gpytorch, botorch\n",
            "Successfully installed botorch-0.8.3 gpytorch-1.9.1 linear-operator-0.3.0 pyro-api-0.1.2 pyro-ppl-1.8.4\n"
          ]
        }
      ]
    },
    {
      "cell_type": "code",
      "source": [
        "from botorch.test_functions import Hartmann\n",
        "\n",
        "\n",
        "neg_hartmann6 = Hartmann(negate=True)\n",
        "\n",
        "\n",
        "def outcome_constraint(X):\n",
        "    return X.sum(dim=-1) - 3\n",
        "\n",
        "def weighted_obj(X):\n",
        "    return neg_hartmann6(X) * (outcome_constraint(X) <= 0).type_as(X)"
      ],
      "metadata": {
        "id": "6whicB1XaKBz"
      },
      "execution_count": 9,
      "outputs": []
    },
    {
      "cell_type": "code",
      "source": [
        "from botorch.models import FixedNoiseGP, ModelListGP\n",
        "from gpytorch.mlls.sum_marginal_log_likelihood import SumMarginalLogLikelihood\n",
        "\n",
        "NOISE_SE = 0.5\n",
        "train_yvar = torch.tensor(NOISE_SE**2, device=device, dtype=dtype)\n",
        "\n",
        "\n",
        "def generate_initial_data(n=10):\n",
        "    # generate training data\n",
        "    train_x = torch.rand(10, 6, device=device, dtype=dtype)\n",
        "    exact_obj = neg_hartmann6(train_x).unsqueeze(-1)  # add output dimension\n",
        "    exact_con = outcome_constraint(train_x).unsqueeze(-1)  # add output dimension\n",
        "    train_obj = exact_obj + NOISE_SE * torch.randn_like(exact_obj)\n",
        "    train_con = exact_con + NOISE_SE * torch.randn_like(exact_con)\n",
        "    best_observed_value = weighted_obj(train_x).max().item()\n",
        "    return train_x, train_obj, train_con, best_observed_value\n",
        "    \n",
        "    \n",
        "def initialize_model(train_x, train_obj, train_con, state_dict=None):\n",
        "    # define models for objective and constraint\n",
        "    model_obj = FixedNoiseGP(train_x, train_obj, train_yvar.expand_as(train_obj)).to(train_x)\n",
        "    model_con = FixedNoiseGP(train_x, train_con, train_yvar.expand_as(train_con)).to(train_x)\n",
        "    # combine into a multi-output GP model\n",
        "    model = ModelListGP(model_obj, model_con)\n",
        "    mll = SumMarginalLogLikelihood(model.likelihood, model)\n",
        "    # load state dict if it is passed\n",
        "    if state_dict is not None:\n",
        "        model.load_state_dict(state_dict)\n",
        "    return mll, model"
      ],
      "metadata": {
        "id": "0HmrpIjZaz6_"
      },
      "execution_count": 10,
      "outputs": []
    },
    {
      "cell_type": "code",
      "source": [
        "from botorch.acquisition.objective import ConstrainedMCObjective\n",
        "\n",
        "\n",
        "def obj_callable(Z):\n",
        "    return Z[..., 0]\n",
        "\n",
        "\n",
        "def constraint_callable(Z):\n",
        "    return Z[..., 1]\n",
        "\n",
        "\n",
        "# define a feasibility-weighted objective for optimization\n",
        "constrained_obj = ConstrainedMCObjective(\n",
        "    objective=obj_callable,\n",
        "    constraints=[constraint_callable],\n",
        ")"
      ],
      "metadata": {
        "id": "XmfTAS_Ga8Aq"
      },
      "execution_count": 11,
      "outputs": []
    },
    {
      "cell_type": "code",
      "source": [
        "from botorch.optim import optimize_acqf\n",
        "\n",
        "\n",
        "bounds = torch.tensor([[0.0] * 6, [1.0] * 6], device=device, dtype=dtype)\n",
        "\n",
        "BATCH_SIZE = 3 if not SMOKE_TEST else 2\n",
        "NUM_RESTARTS = 10 if not SMOKE_TEST else 2\n",
        "RAW_SAMPLES = 512 if not SMOKE_TEST else 32\n",
        "\n",
        "\n",
        "def optimize_acqf_and_get_observation(acq_func):\n",
        "    \"\"\"Optimizes the acquisition function, and returns a new candidate and a noisy observation.\"\"\"\n",
        "    # optimize\n",
        "    candidates, _ = optimize_acqf(\n",
        "        acq_function=acq_func,\n",
        "        bounds=bounds,\n",
        "        q=BATCH_SIZE,\n",
        "        num_restarts=NUM_RESTARTS,\n",
        "        raw_samples=RAW_SAMPLES,  # used for intialization heuristic\n",
        "        options={\"batch_limit\": 5, \"maxiter\": 200},\n",
        "    )\n",
        "    # observe new values \n",
        "    new_x = candidates.detach()\n",
        "    exact_obj = neg_hartmann6(new_x).unsqueeze(-1)  # add output dimension\n",
        "    exact_con = outcome_constraint(new_x).unsqueeze(-1)  # add output dimension\n",
        "    new_obj = exact_obj + NOISE_SE * torch.randn_like(exact_obj)\n",
        "    new_con = exact_con + NOISE_SE * torch.randn_like(exact_con)\n",
        "    return new_x, new_obj, new_con\n",
        "\n",
        "\n",
        "def update_random_observations(best_random):\n",
        "    \"\"\"Simulates a random policy by taking a the current list of best values observed randomly,\n",
        "    drawing a new random point, observing its value, and updating the list.\n",
        "    \"\"\"\n",
        "    rand_x = torch.rand(BATCH_SIZE, 6)\n",
        "    next_random_best = weighted_obj(rand_x).max().item()\n",
        "    best_random.append(max(best_random[-1], next_random_best))       \n",
        "    return best_random"
      ],
      "metadata": {
        "id": "MzDIzKh7a-VY"
      },
      "execution_count": 13,
      "outputs": []
    },
    {
      "cell_type": "markdown",
      "source": [
        "## Now doing the same with Ivy"
      ],
      "metadata": {
        "id": "6ZdtVDGKbt5y"
      }
    },
    {
      "cell_type": "markdown",
      "source": [
        "The above code is implementing an optimization algorithm for a constrained black-box function using the BoTorch library.This black-box function is not yet implemented in ivy. This missing function is implemented below.\n",
        "\n",
        "\n"
      ],
      "metadata": {
        "id": "ZPk2NyRHtXjc"
      }
    },
    {
      "cell_type": "code",
      "source": [
        "!pip install ivy-core"
      ],
      "metadata": {
        "colab": {
          "base_uri": "https://localhost:8080/"
        },
        "id": "K8rpqgwSb0lm",
        "outputId": "4bcc0287-d108-4381-d7dc-cd0f24ef4e77"
      },
      "execution_count": 16,
      "outputs": [
        {
          "output_type": "stream",
          "name": "stdout",
          "text": [
            "Looking in indexes: https://pypi.org/simple, https://us-python.pkg.dev/colab-wheels/public/simple/\n",
            "Requirement already satisfied: ivy-core in /usr/local/lib/python3.9/dist-packages (1.1.10)\n",
            "Requirement already satisfied: einops in /usr/local/lib/python3.9/dist-packages (from ivy-core) (0.6.0)\n",
            "Requirement already satisfied: termcolor in /usr/local/lib/python3.9/dist-packages (from ivy-core) (2.2.0)\n",
            "Requirement already satisfied: psutil in /usr/local/lib/python3.9/dist-packages (from ivy-core) (5.9.4)\n",
            "Requirement already satisfied: numpy in /usr/local/lib/python3.9/dist-packages (from ivy-core) (1.22.4)\n",
            "Requirement already satisfied: nvidia-ml-py3 in /usr/local/lib/python3.9/dist-packages (from ivy-core) (7.352.0)\n"
          ]
        }
      ]
    },
    {
      "cell_type": "code",
      "source": [
        "import ivy\n",
        "import os\n",
        "import torch\n",
        "\n",
        "device = ivy.default_device()\n",
        "dtype = 'float64'\n",
        "SMOKE_TEST = os.environ.get(\"SMOKE_TEST\")\n"
      ],
      "metadata": {
        "id": "D0p7UOGeb-sm"
      },
      "execution_count": 18,
      "outputs": []
    },
    {
      "cell_type": "code",
      "source": [
        "from botorch.models import FixedNoiseGP, ModelListGP\n",
        "from gpytorch.mlls.sum_marginal_log_likelihood import SumMarginalLogLikelihood\n",
        "\n",
        "NOISE_SE = 0.5\n",
        "train_yvar = ivy.full((1,), NOISE_SE**2, device=device, dtype=dtype)\n",
        "\n",
        "\n",
        "def generate_initial_data(n=10):\n",
        "    # generate training data\n",
        "    train_x = ivy.rand((10, 6), device=device, dtype=dtype)\n",
        "    exact_obj = neg_hartmann6(train_x).unsqueeze(-1)  # add output dimension\n",
        "    exact_con = outcome_constraint(train_x).unsqueeze(-1)  # add output dimension\n",
        "    train_obj = exact_obj + NOISE_SE * ivy.randn_like(exact_obj)\n",
        "    train_con = exact_con + NOISE_SE * ivy.randn_like(exact_con)\n",
        "    best_observed_value = weighted_obj(train_x).max().item()\n",
        "    return train_x, train_obj, train_con, best_observed_value\n",
        "    \n",
        "    \n",
        "def initialize_model(train_x, train_obj, train_con, state_dict=None):\n",
        "    # define models for objective and constraint\n",
        "    model_obj = FixedNoiseGP(train_x, train_obj, train_yvar.repeat(train_obj.shape[-2], train_obj.shape[-1]))\n",
        "    model_con = FixedNoiseGP(train_x, train_con, train_yvar.repeat(train_con.shape[-2], train_con.shape[-1]))\n",
        "    # combine into a multi-output GP model\n",
        "    model = ModelListGP(model_obj, model_con)\n",
        "    mll = SumMarginalLogLikelihood(model.likelihood, model)\n",
        "    # load state dict if it is passed\n",
        "    if state_dict is not None:\n",
        "        model.load_state_dict(state_dict)\n",
        "    return mll, model\n"
      ],
      "metadata": {
        "id": "fAY7jkngeFwV"
      },
      "execution_count": null,
      "outputs": []
    },
    {
      "cell_type": "code",
      "source": [
        "from botorch.acquisition.objective import ConstrainedMCObjective\n",
        "\n",
        "\n",
        "def obj_callable(Z):\n",
        "    return Z[..., 0]\n",
        "\n",
        "\n",
        "def constraint_callable(Z):\n",
        "    return Z[..., 1]\n",
        "\n",
        "\n",
        "# define a feasibility-weighted objective for optimization\n",
        "constrained_obj = ConstrainedMCObjective(\n",
        "    objective=obj_callable,\n",
        "    constraints=[constraint_callable],\n",
        ")\n"
      ],
      "metadata": {
        "id": "Lqns9ybUeI_g"
      },
      "execution_count": null,
      "outputs": []
    },
    {
      "cell_type": "code",
      "source": [
        "from botorch.optim import optimize_acqf\n",
        "\n",
        "bounds = torch.tensor([[0.0] * 6, [1.0] * 6], device=device, dtype=dtype)\n",
        "\n",
        "BATCH_SIZE = 3 if not SMOKE_TEST else 2\n",
        "NUM_RESTARTS = 10 if not SMOKE_TEST else 2\n",
        "RAW_SAMPLES = 512 if not SMOKE_TEST else 32\n",
        "\n",
        "\n",
        "def optimize_acqf_and_get_observation(acq_func):\n",
        "    \"\"\"Optimizes the acquisition function, and returns a new candidate and a noisy observation.\"\"\"\n",
        "    # optimize\n",
        "    candidates, _ = optimize_acqf(\n",
        "        acq_function=acq_func,\n",
        "        bounds=bounds,\n",
        "        q=BATCH_SIZE,\n",
        "        num_restarts=NUM_RESTARTS,\n",
        "        raw_samples=RAW_SAMPLES,  # used for intialization heuristic\n",
        "        options={\"batch_limit\": 5, \"maxiter\": 200},\n",
        "    )\n",
        "    # observe new values \n",
        "    new_x = candidates.detach()\n",
        "    exact_obj = neg_hartmann6(new_x).unsqueeze(-1)  # add output dimension\n",
        "    exact_con = outcome_constraint(new_x).unsqueeze(-1)  # add output dimension\n",
        "    new_obj = exact_obj + NOISE_SE * torch.randn_like(exact_obj)\n",
        "    new_con = exact_con + NOISE_SE * torch.randn_like(exact_con)\n",
        "    return new_x, new_obj, new_con\n",
        "\n",
        "\n",
        "def update_random_observations(best_random):\n",
        "    \"\"\"Simulates a random policy by taking a the current list of best values observed randomly,\n",
        "    drawing a new random point, observing its value, and updating the list.\n",
        "    \"\"\"\n",
        "    rand_x = torch.rand(BATCH_SIZE, 6, device=device, dtype=dtype)\n",
        "    next_random_best = weighted_obj(rand_x).max().item()\n",
        "    best_random.append(max(best_random[-1], next_random_best))       \n",
        "    return best_random\n"
      ],
      "metadata": {
        "id": "B5OobX9teLtd"
      },
      "execution_count": null,
      "outputs": []
    }
  ]
}